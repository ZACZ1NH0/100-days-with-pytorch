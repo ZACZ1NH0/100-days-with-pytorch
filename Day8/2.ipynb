{
 "cells": [
  {
   "cell_type": "markdown",
   "id": "576ad65b",
   "metadata": {},
   "source": [
    "### Loading dataset"
   ]
  },
  {
   "cell_type": "markdown",
   "id": "f5c14118",
   "metadata": {},
   "source": [
    "Dưới đây là một ví dụ về cách tải bộ dữ liệu thời trang từ Torchvision(Fashion-MNIST). Fashion-MNIST là một bộ dữ liệu về hình ảnh bài viết của Zalando bao gồm 60.000 ví dụ đào tạo và 10.000 ví dụ thử nghiệm. Mỗi ví dụ bao gồm một hình ảnh thang độ xám 28 × 28 và một nhãn liên quan từ một trong 10 lớp."
   ]
  },
  {
   "cell_type": "markdown",
   "id": "d1a52131",
   "metadata": {},
   "source": [
    "We load the FashionMNIST Dataset with the following parameters:\n",
    "\n",
    "    root is the path where the train/test data is stored,\n",
    "\n",
    "    train specifies training or test dataset,\n",
    "\n",
    "    download=True downloads the data from the internet if it’s not available at root.\n",
    "\n",
    "    transform and target_transform specify the feature and label transformations"
   ]
  },
  {
   "cell_type": "code",
   "execution_count": 1,
   "id": "a2bef2bc",
   "metadata": {},
   "outputs": [
    {
     "name": "stderr",
     "output_type": "stream",
     "text": [
      "100.0%\n",
      "100.0%\n",
      "100.0%\n",
      "100.0%\n"
     ]
    }
   ],
   "source": [
    "import torch\n",
    "from torch.utils.data import Dataset\n",
    "from torchvision import datasets\n",
    "from torchvision.transforms import ToTensor\n",
    "import matplotlib.pyplot as plt\n",
    "\n",
    "\n",
    "training_data = datasets.FashionMNIST(\n",
    "    root=\"data\",\n",
    "    train=True,\n",
    "    download=True,\n",
    "    transform=ToTensor()\n",
    ")\n",
    "\n",
    "test_data = datasets.FashionMNIST(\n",
    "    root=\"data\",\n",
    "    train=False,\n",
    "    download=True,\n",
    "    transform=ToTensor()\n",
    ")"
   ]
  },
  {
   "cell_type": "code",
   "execution_count": null,
   "id": "56409f48",
   "metadata": {},
   "outputs": [],
   "source": []
  }
 ],
 "metadata": {
  "kernelspec": {
   "display_name": "venv",
   "language": "python",
   "name": "python3"
  },
  "language_info": {
   "codemirror_mode": {
    "name": "ipython",
    "version": 3
   },
   "file_extension": ".py",
   "mimetype": "text/x-python",
   "name": "python",
   "nbconvert_exporter": "python",
   "pygments_lexer": "ipython3",
   "version": "3.9.10"
  }
 },
 "nbformat": 4,
 "nbformat_minor": 5
}

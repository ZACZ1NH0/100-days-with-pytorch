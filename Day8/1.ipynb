{
 "cells": [
  {
   "cell_type": "markdown",
   "id": "003e22e2",
   "metadata": {},
   "source": [
    "# Datasets & DataLoaders"
   ]
  },
  {
   "cell_type": "markdown",
   "id": "498029d4",
   "metadata": {},
   "source": [
    "### Dataset là gì?"
   ]
  },
  {
   "cell_type": "markdown",
   "id": "0a7032f0",
   "metadata": {},
   "source": [
    "Trong PyTorch, Dataset là một abstract class đại diện cho một tập dữ liệu. Nó cần hiện thực 2 phương thức:\n",
    "\n",
    "__len__(): Trả về số lượng mẫu\n",
    "\n",
    "__getitem__(index): Trả về một mẫu tại chỉ số index"
   ]
  },
  {
   "cell_type": "code",
   "execution_count": 2,
   "id": "6931bb61",
   "metadata": {},
   "outputs": [],
   "source": [
    "from torch.utils.data import Dataset\n",
    "\n",
    "class MyDataset(Dataset):\n",
    "    def __init__(self, X, y):\n",
    "        self.X = X\n",
    "        self.y = y\n",
    "\n",
    "    def __len__(self):\n",
    "        return len(self.X)\n",
    "\n",
    "    def __getitem__(self, index):\n",
    "        return self.X[index], self.y[index]"
   ]
  },
  {
   "cell_type": "markdown",
   "id": "6db36db0",
   "metadata": {},
   "source": [
    "### Dataloader là gì?"
   ]
  },
  {
   "cell_type": "markdown",
   "id": "043df07c",
   "metadata": {},
   "source": [
    "DataLoader dùng để lấy dữ liệu từ Dataset theo batch, có thể shuffle và chạy song song nhiều luồng để load dữ liệu."
   ]
  },
  {
   "cell_type": "code",
   "execution_count": null,
   "id": "bdb1008f",
   "metadata": {},
   "outputs": [],
   "source": [
    "from torch.utils.data import DataLoader\n",
    "\n",
    "dataset = MyDataset(X_tensor, y_tensor)\n",
    "loader = DataLoader(dataset, batch_size=32, shuffle=True)\n"
   ]
  }
 ],
 "metadata": {
  "kernelspec": {
   "display_name": "venv",
   "language": "python",
   "name": "python3"
  },
  "language_info": {
   "codemirror_mode": {
    "name": "ipython",
    "version": 3
   },
   "file_extension": ".py",
   "mimetype": "text/x-python",
   "name": "python",
   "nbconvert_exporter": "python",
   "pygments_lexer": "ipython3",
   "version": "3.9.10"
  }
 },
 "nbformat": 4,
 "nbformat_minor": 5
}

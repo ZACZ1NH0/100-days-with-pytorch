{
 "cells": [
  {
   "cell_type": "code",
   "execution_count": 1,
   "id": "8b106e08",
   "metadata": {},
   "outputs": [],
   "source": [
    "import torch\n",
    "import torch.nn as nn\n",
    "import numpy as np\n"
   ]
  },
  {
   "cell_type": "code",
   "execution_count": 2,
   "id": "f9da86eb",
   "metadata": {},
   "outputs": [],
   "source": [
    "X = torch.tensor([[1],[2],[3],[4]], dtype=torch.float32)\n",
    "y = torch.tensor([[0],[1],[1],[0]], dtype=torch.float32)\n"
   ]
  },
  {
   "cell_type": "code",
   "execution_count": 4,
   "id": "b22b330b",
   "metadata": {},
   "outputs": [],
   "source": [
    "class LogisticRegression(nn.Module):\n",
    "    def __init__(self, input_dim):\n",
    "        super().__init__()\n",
    "        self.linear = nn.Linear(input_dim,1)\n",
    "\n",
    "    def forward(self, x):\n",
    "        return torch.sigmoid(self.linear(x))\n"
   ]
  },
  {
   "cell_type": "code",
   "execution_count": 7,
   "id": "189a00fc",
   "metadata": {},
   "outputs": [],
   "source": [
    "model = LogisticRegression(1)"
   ]
  },
  {
   "cell_type": "code",
   "execution_count": 5,
   "id": "2da4b3a9",
   "metadata": {},
   "outputs": [],
   "source": [
    "learning_rate = 0.01\n",
    "n_iters = 100"
   ]
  },
  {
   "cell_type": "code",
   "execution_count": 9,
   "id": "a4962cf9",
   "metadata": {},
   "outputs": [],
   "source": [
    "criterion = nn.BCELoss()\n",
    "optimizer = torch.optim.SGD(model.parameters(), lr= learning_rate)\n"
   ]
  },
  {
   "cell_type": "code",
   "execution_count": 21,
   "id": "92e34679",
   "metadata": {},
   "outputs": [
    {
     "name": "stdout",
     "output_type": "stream",
     "text": [
      "epoch: 9 loss: 0.6964654326438904\n",
      "epoch: 19 loss: 0.6964408755302429\n",
      "epoch: 29 loss: 0.696416437625885\n",
      "epoch: 39 loss: 0.6963922381401062\n",
      "epoch: 49 loss: 0.6963680982589722\n",
      "epoch: 59 loss: 0.696344256401062\n",
      "epoch: 69 loss: 0.696320652961731\n",
      "epoch: 79 loss: 0.6962970495223999\n",
      "epoch: 89 loss: 0.696273684501648\n",
      "epoch: 99 loss: 0.6962504982948303\n"
     ]
    }
   ],
   "source": [
    "for epoch in range(n_iters):\n",
    "    y_pred = model(X)\n",
    "\n",
    "    loss = criterion(y_pred,y)\n",
    "    loss.backward()\n",
    "\n",
    "    optimizer.step()\n",
    "\n",
    "    optimizer.zero_grad()\n",
    "\n",
    "    if (epoch + 1)% 10 == 0:\n",
    "        print(f'epoch: {epoch}', f'loss: {loss.item()}')\n",
    "\n"
   ]
  },
  {
   "cell_type": "code",
   "execution_count": 22,
   "id": "aca0003f",
   "metadata": {},
   "outputs": [
    {
     "name": "stdout",
     "output_type": "stream",
     "text": [
      "Xác suất: tensor([0.4367, 0.4692, 0.5019, 0.5347])\n",
      "Dự đoán: tensor([0., 0., 1., 1.])\n"
     ]
    }
   ],
   "source": [
    "with torch.no_grad():\n",
    "    y_prob = model(X)\n",
    "    y_pred = y_prob.round()\n",
    "    print(\"Xác suất:\", y_prob.squeeze())\n",
    "    print(\"Dự đoán:\", y_pred.squeeze())\n"
   ]
  },
  {
   "cell_type": "code",
   "execution_count": 23,
   "id": "e6b0c55b",
   "metadata": {},
   "outputs": [
    {
     "data": {
      "image/png": "[encoded data removed]",
      "text/plain": [
       "<Figure size 640x480 with 1 Axes>"
      ]
     },
     "metadata": {},
     "output_type": "display_data"
    }
   ],
   "source": [
    "import matplotlib.pyplot as plt\n",
    "\n",
    "with torch.no_grad():\n",
    "    x_range = torch.linspace(X.min(), X.max(), 100).reshape(-1, 1)\n",
    "    y_range = model(x_range)\n",
    "\n",
    "plt.scatter(X.numpy(), y.numpy(), color='red', label='True')\n",
    "plt.plot(x_range.numpy(), y_range.numpy(), color='blue', label='Predicted Sigmoid')\n",
    "plt.legend()\n",
    "plt.show()\n"
   ]
  }
 ],
 "metadata": {
  "kernelspec": {
   "display_name": "venv",
   "language": "python",
   "name": "python3"
  },
  "language_info": {
   "codemirror_mode": {
    "name": "ipython",
    "version": 3
   },
   "file_extension": ".py",
   "mimetype": "text/x-python",
   "name": "python",
   "nbconvert_exporter": "python",
   "pygments_lexer": "ipython3",
   "version": "3.9.10"
  }
 },
 "nbformat": 4,
 "nbformat_minor": 5
}

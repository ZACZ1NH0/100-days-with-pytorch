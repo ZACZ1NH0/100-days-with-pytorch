{
 "cells": [
  {
   "cell_type": "code",
   "execution_count": 24,
   "id": "2de7a988",
   "metadata": {},
   "outputs": [],
   "source": [
    "import torch\n",
    "import torch.nn as nn\n",
    "import numpy as np\n",
    "from sklearn import datasets\n",
    "import matplotlib.pyplot as plt"
   ]
  },
  {
   "cell_type": "code",
   "execution_count": 40,
   "id": "8ded6e5d",
   "metadata": {},
   "outputs": [],
   "source": [
    "#prepare the dataset\n",
    "X_numpy, y_numpy = datasets.make_regression(n_samples=100, n_features=1, noise=10.0, random_state=42)\n"
   ]
  },
  {
   "cell_type": "code",
   "execution_count": 26,
   "id": "49627593",
   "metadata": {},
   "outputs": [],
   "source": [
    "X = torch.from_numpy(X_numpy.astype(np.float32))\n",
    "y = torch.from_numpy(y_numpy.astype(np.float32))\n",
    "y = y.view(y.shape[0],1)"
   ]
  },
  {
   "cell_type": "code",
   "execution_count": 27,
   "id": "b08274dd",
   "metadata": {},
   "outputs": [],
   "source": [
    "n_samples, n_features = X.shape"
   ]
  },
  {
   "cell_type": "code",
   "execution_count": 28,
   "id": "3557335c",
   "metadata": {},
   "outputs": [],
   "source": [
    "input_size = n_features\n",
    "output_size = 1\n",
    "model = nn.Linear(input_size, output_size)"
   ]
  },
  {
   "cell_type": "code",
   "execution_count": 38,
   "id": "26aaf2ce",
   "metadata": {},
   "outputs": [],
   "source": [
    "learning_rate = 0.001\n",
    "n_iters = 100"
   ]
  },
  {
   "cell_type": "code",
   "execution_count": 30,
   "id": "2dd15b6b",
   "metadata": {},
   "outputs": [],
   "source": [
    "criterion = nn.MSELoss()\n",
    "optimizer = torch.optim.SGD(model.parameters(), lr = learning_rate )"
   ]
  },
  {
   "cell_type": "code",
   "execution_count": 39,
   "id": "e67baeb4",
   "metadata": {},
   "outputs": [
    {
     "name": "stdout",
     "output_type": "stream",
     "text": [
      "epoch: 9 \n",
      "loss: 78.0543\n",
      "epoch: 19 \n",
      "loss: 78.0542\n",
      "epoch: 29 \n",
      "loss: 78.0543\n",
      "epoch: 39 \n",
      "loss: 78.0542\n",
      "epoch: 49 \n",
      "loss: 78.0543\n",
      "epoch: 59 \n",
      "loss: 78.0542\n",
      "epoch: 69 \n",
      "loss: 78.0542\n",
      "epoch: 79 \n",
      "loss: 78.0542\n",
      "epoch: 89 \n",
      "loss: 78.0542\n",
      "epoch: 99 \n",
      "loss: 78.0543\n"
     ]
    },
    {
     "data": {
      "image/png": "[encoded data removed]",
      "text/plain": [
       "<Figure size 640x480 with 1 Axes>"
      ]
     },
     "metadata": {},
     "output_type": "display_data"
    }
   ],
   "source": [
    "for epoch in range(n_iters):\n",
    "    y_predict = model(X)\n",
    "\n",
    "    loss = criterion(y_predict, y)\n",
    "\n",
    "    loss.backward()\n",
    "\n",
    "    optimizer.step()\n",
    "\n",
    "    optimizer.zero_grad()\n",
    "\n",
    "    if (epoch + 1) % 10 == 0: \n",
    "        print(f'epoch: {epoch} ')\n",
    "        print(f'loss: {loss.item():.4f}')\n",
    "\n",
    "\n",
    "#plot\n",
    "predicted = model(X).detach()\n",
    "plt.plot(X_numpy, y_numpy, 'ro')\n",
    "plt.plot(X_numpy, predicted, 'b')\n",
    "plt.show()\n"
   ]
  },
  {
   "cell_type": "markdown",
   "id": "3634cb65",
   "metadata": {},
   "source": [
    "Dự đoán luôn luôn tạo ra một đường thẳng \n"
   ]
  },
  {
   "cell_type": "markdown",
   "id": "e25b556c",
   "metadata": {},
   "source": [
    "Dữ liệu gốc bị rải rác xung quanh một đường thẳng lý tưởng. Nhưng mô hình sẽ cố học ra đường thẳng tốt nhất khớp với toàn bộ dữ \n",
    "\n",
    "liệu đó, bằng cách giảm lỗi bình phương trung bình (MSE)."
   ]
  },
  {
   "cell_type": "markdown",
   "id": "eff07a70",
   "metadata": {},
   "source": [
    "Linear Regression là một mô hình đơn giản, lời giải cho phương trình đạo hàm bằng 0 cũng khá đơn giản. Trong hầu hết các trường \n",
    "\n",
    "hợp, chúng ta không thể giải được phương trình đạo hàm bằng 0.\n",
    "\n",
    "Nhưng có một điều chúng ta nên nhớ, còn tính được đạo hàm là còn có hy vọng.\n",
    "\n",
    "Khi đạo hàm tồn tại, ta biết được hướng đi để cải thiện mô hình (ý tưởng của gradient descent).\n",
    "\n",
    "Nó như việc “còn nhìn thấy được ánh sáng thì còn biết đường mà đi”.\n",
    "\n",
    "Ngược lại, khi hàm không khả vi, hoặc gradient không tồn tại, thì quá trình tối ưu hóa trở nên cực kỳ khó khăn.\n",
    "\n"
   ]
  }
 ],
 "metadata": {
  "kernelspec": {
   "display_name": "venv",
   "language": "python",
   "name": "python3"
  },
  "language_info": {
   "codemirror_mode": {
    "name": "ipython",
    "version": 3
   },
   "file_extension": ".py",
   "mimetype": "text/x-python",
   "name": "python",
   "nbconvert_exporter": "python",
   "pygments_lexer": "ipython3",
   "version": "3.9.10"
  }
 },
 "nbformat": 4,
 "nbformat_minor": 5
}

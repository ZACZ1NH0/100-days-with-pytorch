{
 "cells": [
  {
   "cell_type": "code",
   "execution_count": 1,
   "id": "ae27871b",
   "metadata": {},
   "outputs": [],
   "source": [
    "import torch\n",
    "import torch.nn as nn"
   ]
  },
  {
   "cell_type": "code",
   "execution_count": 3,
   "id": "c74e2e97",
   "metadata": {},
   "outputs": [],
   "source": [
    "net = nn.Sequential()"
   ]
  },
  {
   "cell_type": "code",
   "execution_count": 16,
   "id": "1bf49f1a",
   "metadata": {},
   "outputs": [],
   "source": [
    "class Flatten(nn.Module):\n",
    "    def forward(self, x): \n",
    "        size = x.size()[1:]\n",
    "        num_features = 1\n",
    "        for s in size:\n",
    "            num_features *= s\n",
    "        return x.view(-1, num_features)"
   ]
  },
  {
   "cell_type": "code",
   "execution_count": 17,
   "id": "e2889504",
   "metadata": {},
   "outputs": [],
   "source": [
    "net.add_module(\"Conv1\", nn.Conv2d(1,6,3))\n",
    "net.add_module(\"ReLU\",nn.ReLU())\n",
    "net.add_module(\"Maxpooling1\", nn.MaxPool2d(2))\n",
    "\n",
    "net.add_module(\"Conv2\",nn.Conv2d(6,16,3))\n",
    "net.add_module(\"ReLU2\", nn.ReLU())\n",
    "net.add_module(\"Maxpooling2\", nn.MaxPool2d(2))\n",
    "net.add_module(\"Flatten\", Flatten())\n",
    "\n",
    "net.add_module(\"Fc1\", nn.Linear(16*6*6,120))\n",
    "net.add_module(\"Fc2\", nn.Linear(120,84))\n",
    "net.add_module(\"Fc3\", nn.Linear(84,10))\n"
   ]
  },
  {
   "cell_type": "code",
   "execution_count": 18,
   "id": "cb753096",
   "metadata": {},
   "outputs": [
    {
     "name": "stdout",
     "output_type": "stream",
     "text": [
      "Sequential(\n",
      "  (Conv1): Conv2d(1, 6, kernel_size=(3, 3), stride=(1, 1))\n",
      "  (ReLU): ReLU()\n",
      "  (Maxpooling1): MaxPool2d(kernel_size=2, stride=2, padding=0, dilation=1, ceil_mode=False)\n",
      "  (Conv2): Conv2d(6, 16, kernel_size=(3, 3), stride=(1, 1))\n",
      "  (ReLU2): ReLU()\n",
      "  (Maxpooling2): MaxPool2d(kernel_size=2, stride=2, padding=0, dilation=1, ceil_mode=False)\n",
      "  (Flatten): Flatten()\n",
      "  (Fc1): Linear(in_features=576, out_features=120, bias=True)\n",
      "  (Fc2): Linear(in_features=120, out_features=84, bias=True)\n",
      "  (Fc3): Linear(in_features=84, out_features=10, bias=True)\n",
      ")\n"
     ]
    }
   ],
   "source": [
    "print(net)"
   ]
  },
  {
   "cell_type": "code",
   "execution_count": 19,
   "id": "93145a9d",
   "metadata": {},
   "outputs": [],
   "source": [
    "input = torch.randn(1,1,32,32)"
   ]
  },
  {
   "cell_type": "code",
   "execution_count": 20,
   "id": "48ace3d5",
   "metadata": {},
   "outputs": [],
   "source": [
    "output = net(input)"
   ]
  },
  {
   "cell_type": "code",
   "execution_count": 21,
   "id": "9288057c",
   "metadata": {},
   "outputs": [
    {
     "data": {
      "text/plain": [
       "tensor([[-0.0211, -0.1237,  0.1274,  0.0686, -0.0443, -0.1205, -0.0415,  0.0285,\n",
       "          0.0067, -0.0605]], grad_fn=<AddmmBackward0>)"
      ]
     },
     "execution_count": 21,
     "metadata": {},
     "output_type": "execute_result"
    }
   ],
   "source": [
    "output"
   ]
  },
  {
   "cell_type": "code",
   "execution_count": null,
   "id": "2200654b",
   "metadata": {},
   "outputs": [],
   "source": []
  }
 ],
 "metadata": {
  "kernelspec": {
   "display_name": "Python 3",
   "language": "python",
   "name": "python3"
  },
  "language_info": {
   "codemirror_mode": {
    "name": "ipython",
    "version": 3
   },
   "file_extension": ".py",
   "mimetype": "text/x-python",
   "name": "python",
   "nbconvert_exporter": "python",
   "pygments_lexer": "ipython3",
   "version": "3.6.13"
  }
 },
 "nbformat": 4,
 "nbformat_minor": 5
}

{
 "cells": [
  {
   "cell_type": "code",
   "execution_count": 1,
   "id": "f05040bc",
   "metadata": {},
   "outputs": [],
   "source": [
    "import torch\n",
    "import torch.nn as nn\n",
    "import torch.optim as optim\n"
   ]
  },
  {
   "cell_type": "code",
   "execution_count": 2,
   "id": "accfb014",
   "metadata": {},
   "outputs": [],
   "source": [
    "x_train = torch.tensor([[1.0],[2.0],[3.0],[4.0]])\n",
    "y_train = torch.tensor([[2.0],[4.0],[6.0],[8.0]])\n"
   ]
  },
  {
   "cell_type": "code",
   "execution_count": 3,
   "id": "2cad7960",
   "metadata": {},
   "outputs": [],
   "source": [
    "class SimpleModel(nn.Module):\n",
    "    def __init__(self):\n",
    "        super(SimpleModel, self).__init__()\n",
    "        self.linear = nn.Linear(1,1)\n",
    "    \n",
    "    def forward(self, x):\n",
    "        return self.linear(x)\n"
   ]
  },
  {
   "cell_type": "code",
   "execution_count": 4,
   "id": "93b0993f",
   "metadata": {},
   "outputs": [],
   "source": [
    "model = SimpleModel()"
   ]
  },
  {
   "cell_type": "code",
   "execution_count": 5,
   "id": "309b19b9",
   "metadata": {},
   "outputs": [],
   "source": [
    "criterion = nn.MSELoss()\n",
    "optimizer = optim.SGD(model.parameters(),lr = 0.01)"
   ]
  },
  {
   "cell_type": "code",
   "execution_count": 6,
   "id": "3f011c44",
   "metadata": {},
   "outputs": [
    {
     "name": "stdout",
     "output_type": "stream",
     "text": [
      "Epoch 0: Loss = 57.36064529418945\n",
      "Epoch 10: Loss = 1.4849369525909424\n",
      "Epoch 20: Loss = 0.03924831002950668\n",
      "Epoch 30: Loss = 0.0017965743318200111\n",
      "Epoch 40: Loss = 0.0007821546168997884\n",
      "Epoch 50: Loss = 0.0007130902376957238\n",
      "Epoch 60: Loss = 0.0006709771114401519\n",
      "Epoch 70: Loss = 0.0006319086533039808\n",
      "Epoch 80: Loss = 0.0005951263592578471\n",
      "Epoch 90: Loss = 0.0005604940233752131\n"
     ]
    }
   ],
   "source": [
    "for epoch in range(100):\n",
    "    y_pred = model(x_train)\n",
    "    loss = criterion(y_pred, y_train)#Tính loss\n",
    "    \n",
    "    optimizer.zero_grad()\n",
    "    loss.backward()\n",
    "    optimizer.step()\n",
    "    \n",
    "    if epoch % 10 == 0:\n",
    "        print(f'Epoch {epoch}: Loss = {loss.item()}')\n",
    "        "
   ]
  },
  {
   "cell_type": "code",
   "execution_count": 7,
   "id": "4de2c3d2",
   "metadata": {},
   "outputs": [
    {
     "name": "stdout",
     "output_type": "stream",
     "text": [
      "Dự đoán cho x = 5: 9.960611343383789\n"
     ]
    }
   ],
   "source": [
    "x_test = torch.tensor([[5.0]])\n",
    "y_test = model(x_test)\n",
    "print(f'Dự đoán cho x = 5: {y_test.item()}')"
   ]
  },
  {
   "cell_type": "code",
   "execution_count": null,
   "id": "8c5ef597",
   "metadata": {},
   "outputs": [],
   "source": []
  }
 ],
 "metadata": {
  "kernelspec": {
   "display_name": "Python 3",
   "language": "python",
   "name": "python3"
  },
  "language_info": {
   "codemirror_mode": {
    "name": "ipython",
    "version": 3
   },
   "file_extension": ".py",
   "mimetype": "text/x-python",
   "name": "python",
   "nbconvert_exporter": "python",
   "pygments_lexer": "ipython3",
   "version": "3.6.13"
  }
 },
 "nbformat": 4,
 "nbformat_minor": 5
}

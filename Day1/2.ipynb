{
 "cells": [
  {
   "cell_type": "code",
   "execution_count": 5,
   "id": "8ade1283",
   "metadata": {},
   "outputs": [],
   "source": [
    "import torch\n",
    "import numpy as np"
   ]
  },
  {
   "cell_type": "markdown",
   "id": "c56aca6d",
   "metadata": {},
   "source": [
    "# Bridge with NumPy"
   ]
  },
  {
   "cell_type": "code",
   "execution_count": 3,
   "id": "13933523",
   "metadata": {},
   "outputs": [
    {
     "name": "stdout",
     "output_type": "stream",
     "text": [
      "t: tensor([1., 1., 1., 1., 1.])\n",
      "n: [1. 1. 1. 1. 1.]\n",
      "z: tensor([1., 1., 1., 1., 1.])\n"
     ]
    }
   ],
   "source": [
    "t = torch.ones(5)\n",
    "print(f\"t: {t}\")\n",
    "n = t.numpy()\n",
    "print(f\"n: {n}\")\n",
    "z = torch.from_numpy(n)\n",
    "print(f\"z: {z}\")"
   ]
  },
  {
   "cell_type": "code",
   "execution_count": 4,
   "id": "a54b5acc",
   "metadata": {},
   "outputs": [
    {
     "name": "stdout",
     "output_type": "stream",
     "text": [
      "t: tensor([2., 2., 2., 2., 2.])\n",
      "n: [2. 2. 2. 2. 2.]\n"
     ]
    }
   ],
   "source": [
    "t.add_(1)\n",
    "print(f\"t: {t}\")\n",
    "print(f\"n: {n}\")"
   ]
  },
  {
   "cell_type": "markdown",
   "id": "77ff4931",
   "metadata": {},
   "source": [
    "# NumPy array to Tensor"
   ]
  },
  {
   "cell_type": "code",
   "execution_count": 13,
   "id": "8fa95028",
   "metadata": {},
   "outputs": [
    {
     "name": "stdout",
     "output_type": "stream",
     "text": [
      "n: [1. 1. 1. 1. 1.]\n",
      "t: tensor([1., 1., 1., 1., 1.], dtype=torch.float64) \n",
      "\n",
      "n: [2. 1. 1. 1. 1.]\n",
      "t: tensor([2., 1., 1., 1., 1.], dtype=torch.float64) \n",
      "\n",
      "n: [2. 3. 1. 1. 1.]\n",
      "t: tensor([2., 3., 1., 1., 1.], dtype=torch.float64) \n",
      "\n",
      "n: [4. 6. 2. 2. 2.]\n",
      "t: tensor([4., 6., 2., 2., 2.], dtype=torch.float64) \n",
      "\n",
      "n: [2. 3. 1. 1. 1.]\n",
      "t: tensor([2., 3., 1., 1., 1.], dtype=torch.float64) \n",
      "\n",
      "n: [4. 6. 2. 2. 2.]\n",
      "t: tensor([2., 3., 1., 1., 1.], dtype=torch.float64) \n",
      "\n"
     ]
    }
   ],
   "source": [
    "n = np.ones(5)\n",
    "print(f\"n: {n}\")\n",
    "t = torch.from_numpy(n)\n",
    "print(f\"t: {t} \\n\")\n",
    "n[0] = 2\n",
    "print(f\"n: {n}\")\n",
    "print(f\"t: {t} \\n\")\n",
    "\n",
    "n [1] = 3\n",
    "print(f\"n: {n}\")   \n",
    "print(f\"t: {t} \\n\")\n",
    "\n",
    "n *= 2\n",
    "print(f\"n: {n}\")\n",
    "print(f\"t: {t} \\n\")\n",
    "\n",
    "n //= 2\n",
    "print(f\"n: {n}\")\n",
    "print(f\"t: {t} \\n\")\n",
    "\n",
    "# lưu ý numpy array và tensor đều trỏ đến cùng một vùng nhớ, gán n = n*2 sẽ không ảnh hưởng đến tensor t\n",
    "n = n*2\n",
    "print(f\"n: {n}\")\n",
    "print(f\"t: {t} \\n\")"
   ]
  }
 ],
 "metadata": {
  "kernelspec": {
   "display_name": "venv",
   "language": "python",
   "name": "python3"
  },
  "language_info": {
   "codemirror_mode": {
    "name": "ipython",
    "version": 3
   },
   "file_extension": ".py",
   "mimetype": "text/x-python",
   "name": "python",
   "nbconvert_exporter": "python",
   "pygments_lexer": "ipython3",
   "version": "3.9.10"
  }
 },
 "nbformat": 4,
 "nbformat_minor": 5
}

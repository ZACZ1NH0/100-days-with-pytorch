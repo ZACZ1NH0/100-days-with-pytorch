{
 "cells": [
  {
   "cell_type": "code",
   "execution_count": 37,
   "id": "2963d715",
   "metadata": {},
   "outputs": [
    {
     "name": "stdout",
     "output_type": "stream",
     "text": [
      "2.7.1+cpu\n"
     ]
    }
   ],
   "source": [
    "import torch\n",
    "import numpy as np\n",
    "print(torch.__version__)"
   ]
  },
  {
   "cell_type": "markdown",
   "id": "2c96d258",
   "metadata": {},
   "source": [
    "## Làm quen với tensor"
   ]
  },
  {
   "cell_type": "markdown",
   "id": "9aa414d4",
   "metadata": {},
   "source": [
    "### create tensor"
   ]
  },
  {
   "cell_type": "code",
   "execution_count": 31,
   "id": "02a08aff",
   "metadata": {},
   "outputs": [
    {
     "name": "stdout",
     "output_type": "stream",
     "text": [
      "tensor([[1., 2., 3.],\n",
      "        [4., 5., 6.],\n",
      "        [7., 8., 9.]])\n",
      "torch.Size([3, 3])\n"
     ]
    }
   ],
   "source": [
    "data = [[1,2,3], [4,5,6], [7,8,9]]\n",
    "x = torch.tensor(data, dtype=torch.float32)\n",
    "print(x)\n",
    "print(x.shape)"
   ]
  },
  {
   "cell_type": "code",
   "execution_count": 44,
   "id": "36ef2e24",
   "metadata": {},
   "outputs": [
    {
     "name": "stdout",
     "output_type": "stream",
     "text": [
      "(3, 3)\n",
      "tensor([[1., 2., 3.],\n",
      "        [4., 5., 6.],\n",
      "        [7., 8., 9.]], dtype=torch.float16)\n",
      "torch.Size([3, 3])\n",
      "True\n"
     ]
    }
   ],
   "source": [
    "np_data = np.array(data)\n",
    "print(np_data.shape)\n",
    "np_data = np_data.astype(np.float32)  # Ensure the numpy array is of type float32\n",
    "y = torch.tensor(data, dtype=torch.float16)\n",
    "print(y)\n",
    "print(y.shape)\n",
    "print(torch.equal(x, y))  # Check if the tensors are equal"
   ]
  },
  {
   "cell_type": "code",
   "execution_count": 45,
   "id": "95774899",
   "metadata": {},
   "outputs": [
    {
     "name": "stdout",
     "output_type": "stream",
     "text": [
      "tensor([[1., 1., 1.],\n",
      "        [1., 1., 1.],\n",
      "        [1., 1., 1.]])\n"
     ]
    }
   ],
   "source": [
    "x_one = torch.ones((3, 3), dtype=torch.float32)\n",
    "print(x_one)"
   ]
  },
  {
   "cell_type": "code",
   "execution_count": 52,
   "id": "4e0cf317",
   "metadata": {},
   "outputs": [
    {
     "name": "stdout",
     "output_type": "stream",
     "text": [
      "tensor([[1., 1., 1.],\n",
      "        [1., 1., 1.],\n",
      "        [1., 1., 1.]])\n",
      "tensor([[1., 1., 1., 1., 1., 1., 1., 1., 1., 1., 1.],\n",
      "        [1., 1., 1., 1., 1., 1., 1., 1., 1., 1., 1.],\n",
      "        [1., 1., 1., 1., 1., 1., 1., 1., 1., 1., 1.]])\n"
     ]
    }
   ],
   "source": [
    "x_ones = torch.ones_like(x)\n",
    "print(x_ones)\n",
    "z = torch.tensor([\n",
    "    [1, 1, 1, 2, 3 , 4, 5, 6, 7, 8, 9],\n",
    "    [1, 1, 1, 2, 3 , 4, 5, 6, 7, 8, 9],\n",
    "    [1, 1, 1, 2, 3 , 4, 5, 6, 7, 8, 9]\n",
    "])\n",
    "z_ones = torch.ones_like(z, dtype=torch.float32)\n",
    "print(z_ones)"
   ]
  },
  {
   "cell_type": "code",
   "execution_count": 53,
   "id": "0122f490",
   "metadata": {},
   "outputs": [
    {
     "name": "stdout",
     "output_type": "stream",
     "text": [
      "tensor([[0.3905, 0.3797, 0.8998],\n",
      "        [0.0939, 0.1304, 0.4645],\n",
      "        [0.5955, 0.1943, 0.5377]])\n"
     ]
    }
   ],
   "source": [
    "x_rand = torch.rand_like(x, dtype=torch.float32)\n",
    "print(x_rand)"
   ]
  },
  {
   "cell_type": "code",
   "execution_count": 54,
   "id": "35206378",
   "metadata": {},
   "outputs": [
    {
     "name": "stdout",
     "output_type": "stream",
     "text": [
      "tensor([[0., 0., 0.],\n",
      "        [0., 0., 0.],\n",
      "        [0., 0., 0.]])\n"
     ]
    }
   ],
   "source": [
    "x_zeros = torch.zeros_like(x, dtype=torch.float32)\n",
    "print(x_zeros)"
   ]
  },
  {
   "cell_type": "markdown",
   "id": "a2b08199",
   "metadata": {},
   "source": [
    "### slicing\n"
   ]
  },
  {
   "cell_type": "code",
   "execution_count": 55,
   "id": "7ecbcec9",
   "metadata": {},
   "outputs": [
    {
     "name": "stdout",
     "output_type": "stream",
     "text": [
      "tensor([[0.5007, 0.1181, 0.9164, 0.5304],\n",
      "        [0.8427, 0.8907, 0.2444, 0.0753],\n",
      "        [0.4247, 0.8589, 0.9274, 0.0688],\n",
      "        [0.7416, 0.5967, 0.8142, 0.6673]])\n",
      "first element: tensor(0.5007)\n",
      "last element: tensor(0.6673)\n",
      "first row: tensor([0.5007, 0.1181, 0.9164, 0.5304])\n",
      "last row: tensor([0.7416, 0.5967, 0.8142, 0.6673])\n",
      "first column: tensor([0.5007, 0.8427, 0.4247, 0.7416])\n",
      "last column: tensor([0.5304, 0.0753, 0.0688, 0.6673])\n",
      "After setting second column to zero:\n",
      "tensor([[0.5007, 0.0000, 0.9164, 0.5304],\n",
      "        [0.8427, 0.0000, 0.2444, 0.0753],\n",
      "        [0.4247, 0.0000, 0.9274, 0.0688],\n",
      "        [0.7416, 0.0000, 0.8142, 0.6673]])\n",
      "Shape of tensor: torch.Size([4, 4])\n"
     ]
    }
   ],
   "source": [
    "tensor = torch.rand(4,4, dtype=torch.float32)\n",
    "print(tensor)\n",
    "print(\"first element:\", tensor[0, 0])\n",
    "print(\"last element:\", tensor[-1, -1])\n",
    "print(\"first row:\", tensor[0, :])\n",
    "print(\"last row:\", tensor[-1, :])\n",
    "print(\"first column:\", tensor[:, 0])\n",
    "print(\"last column:\", tensor[:, -1])\n",
    "tensor[:, 1] = 0  # Set the second column to zero\n",
    "print(\"After setting second column to zero:\")\n",
    "print(tensor)\n",
    "print(\"Shape of tensor:\", tensor.shape)"
   ]
  },
  {
   "cell_type": "markdown",
   "id": "12845142",
   "metadata": {},
   "source": [
    "### join "
   ]
  },
  {
   "cell_type": "code",
   "execution_count": 57,
   "id": "ac330373",
   "metadata": {},
   "outputs": [
    {
     "name": "stdout",
     "output_type": "stream",
     "text": [
      "Concatenated tensor shape: torch.Size([16, 4])\n",
      "Concatenated tensor: tensor([[0.5007, 0.0000, 0.9164, 0.5304],\n",
      "        [0.8427, 0.0000, 0.2444, 0.0753],\n",
      "        [0.4247, 0.0000, 0.9274, 0.0688],\n",
      "        [0.7416, 0.0000, 0.8142, 0.6673],\n",
      "        [0.5007, 0.0000, 0.9164, 0.5304],\n",
      "        [0.8427, 0.0000, 0.2444, 0.0753],\n",
      "        [0.4247, 0.0000, 0.9274, 0.0688],\n",
      "        [0.7416, 0.0000, 0.8142, 0.6673],\n",
      "        [0.5007, 0.0000, 0.9164, 0.5304],\n",
      "        [0.8427, 0.0000, 0.2444, 0.0753],\n",
      "        [0.4247, 0.0000, 0.9274, 0.0688],\n",
      "        [0.7416, 0.0000, 0.8142, 0.6673],\n",
      "        [0.5007, 0.0000, 0.9164, 0.5304],\n",
      "        [0.8427, 0.0000, 0.2444, 0.0753],\n",
      "        [0.4247, 0.0000, 0.9274, 0.0688],\n",
      "        [0.7416, 0.0000, 0.8142, 0.6673]])\n",
      "Concatenated tensor shape: torch.Size([4, 16])\n",
      "Concatenated tensor: tensor([[0.5007, 0.0000, 0.9164, 0.5304, 0.5007, 0.0000, 0.9164, 0.5304, 0.5007,\n",
      "         0.0000, 0.9164, 0.5304, 0.5007, 0.0000, 0.9164, 0.5304],\n",
      "        [0.8427, 0.0000, 0.2444, 0.0753, 0.8427, 0.0000, 0.2444, 0.0753, 0.8427,\n",
      "         0.0000, 0.2444, 0.0753, 0.8427, 0.0000, 0.2444, 0.0753],\n",
      "        [0.4247, 0.0000, 0.9274, 0.0688, 0.4247, 0.0000, 0.9274, 0.0688, 0.4247,\n",
      "         0.0000, 0.9274, 0.0688, 0.4247, 0.0000, 0.9274, 0.0688],\n",
      "        [0.7416, 0.0000, 0.8142, 0.6673, 0.7416, 0.0000, 0.8142, 0.6673, 0.7416,\n",
      "         0.0000, 0.8142, 0.6673, 0.7416, 0.0000, 0.8142, 0.6673]])\n"
     ]
    }
   ],
   "source": [
    "t1 = torch.cat((tensor, tensor, tensor, tensor), dim=0)  # Concatenate along the first dimension\n",
    "print(\"Concatenated tensor shape:\", t1.shape)\n",
    "print(\"Concatenated tensor:\", t1)\n",
    "t2 = torch.cat((tensor, tensor, tensor, tensor), dim=1)  # Concatenate along the second dimension\n",
    "print(\"Concatenated tensor shape:\", t2.shape)\n",
    "print(\"Concatenated tensor:\", t2)"
   ]
  },
  {
   "cell_type": "markdown",
   "id": "c8d62d54",
   "metadata": {},
   "source": [
    "### Inplace \"_\""
   ]
  },
  {
   "cell_type": "code",
   "execution_count": null,
   "id": "3dd18038",
   "metadata": {},
   "outputs": [
    {
     "name": "stdout",
     "output_type": "stream",
     "text": [
      "Original tensor x:\n",
      "tensor([[1., 2.],\n",
      "        [3., 4.]])\n",
      "Tensor x after in-place addition:\n",
      "tensor([[2., 3.],\n",
      "        [4., 5.]])\n",
      "Tensor x after out-of-place addition:\n",
      "tensor([[1., 2.],\n",
      "        [3., 4.]])\n",
      "New tensor z after out-of-place addition:\n",
      "tensor([[2., 3.],\n",
      "        [4., 5.]])\n",
      "Tensor x after in-place addition with alpha:\n",
      "tensor([[3., 4.],\n",
      "        [5., 6.]])\n",
      "Tensor x after out-of-place addition with alpha:\n",
      "tensor([[1., 2.],\n",
      "        [3., 4.]])\n",
      "New tensor z after out-of-place addition with alpha:\n",
      "tensor([[ 9., 10.],\n",
      "        [11., 12.]])\n"
     ]
    }
   ],
   "source": [
    "# Các hàm có dấu _ thay đổi trực tiếp nội dung của tensor gốc, không tạo ra tensor mới.\n",
    "\n",
    "x = torch.tensor([[1, 2], [3, 4]], dtype=torch.float32)\n",
    "print(\"Original tensor x:\") \n",
    "print(x)\n",
    "x.add_(1)  # Thêm 1 vào từng phần tử của tensor x\n",
    "print(\"Tensor x after in-place addition:\")\n",
    "print(x)\n",
    "x = torch.tensor([[1, 2], [3, 4]], dtype=torch.float32)\n",
    "z = x.add(1)  # Thêm 1 vào từng phần tử của tensor x, không thay đổi tensor gốc\n",
    "print(\"Tensor x after out-of-place addition:\")\n",
    "print(x)\n",
    "print(\"New tensor z after out-of-place addition:\")\n",
    "print(z)\n",
    "x = torch.tensor([[1, 2], [3, 4]], dtype=torch.float32)\n",
    "x.add_(1, alpha=2)  # Thêm 2 vào từng phần tử của tensor x\n",
    "print(\"Tensor x after in-place addition with alpha:\")   \n",
    "print(x)\n",
    "x = torch.tensor([[1, 2], [3, 4]], dtype=torch.float32)\n",
    "x.add(1, alpha=2)  # Thêm 2 vào từng phần tử của tensor x, không thay đổi tensor gốc\n",
    "print(\"Tensor x after out-of-place addition with alpha:\")\n",
    "print(x)\n",
    "print(\"New tensor z after out-of-place addition with alpha:\")\n",
    "z = x.add(2, alpha=4)  # Thêm 2*4 vào từng phần tử của tensor x, không thay đổi tensor gốc\n",
    "print(z)"
   ]
  },
  {
   "cell_type": "markdown",
   "id": "ba5e35b8",
   "metadata": {},
   "source": [
    "# Các phép toán với tensor"
   ]
  },
  {
   "cell_type": "markdown",
   "id": "886f43cc",
   "metadata": {},
   "source": [
    "## Phép cộng"
   ]
  },
  {
   "cell_type": "code",
   "execution_count": 58,
   "id": "53f63ab1",
   "metadata": {},
   "outputs": [
    {
     "name": "stdout",
     "output_type": "stream",
     "text": [
      "Tensor a: tensor([1, 2, 3])\n",
      "Tensor b: tensor([4, 5, 6])\n",
      "Element-wise addition: tensor([5, 7, 9])\n"
     ]
    }
   ],
   "source": [
    "a = torch.tensor([1, 2, 3])\n",
    "b = torch.tensor([4, 5, 6])\n",
    "print(\"Tensor a:\", a)\n",
    "print(\"Tensor b:\", b)\n",
    "print(\"Element-wise addition:\", a + b)"
   ]
  },
  {
   "cell_type": "code",
   "execution_count": 59,
   "id": "2122c5c4",
   "metadata": {},
   "outputs": [
    {
     "name": "stdout",
     "output_type": "stream",
     "text": [
      "c tensor([5, 7, 9])\n",
      "d tensor([5, 7, 9])\n",
      "e tensor([ 9, 12, 15])\n"
     ]
    }
   ],
   "source": [
    "c = a + b\n",
    "d = torch.add(a, b)\n",
    "e = torch.add(a, b, alpha=2)# 1+4*2, 2+5*2, 3+6*2\n",
    "# alpha is a multiplier for the second tensor, b\n",
    "# Uncommenting the next line will raise an error because alpha must be an integer\n",
    "# f = torch.add(a, b, alpha=1.5) \n",
    "print (\"c\", c)\n",
    "print (\"d\", d)\n",
    "print (\"e\", e)  \n",
    "\n"
   ]
  },
  {
   "cell_type": "markdown",
   "id": "88def638",
   "metadata": {},
   "source": [
    "## Phép trừ"
   ]
  },
  {
   "cell_type": "code",
   "execution_count": 60,
   "id": "9646fb92",
   "metadata": {},
   "outputs": [
    {
     "name": "stdout",
     "output_type": "stream",
     "text": [
      "a - b: tensor([-3, -3, -3])\n",
      "i: tensor([-3, -3, -3])\n",
      "k: tensor([-7, -8, -9])\n"
     ]
    }
   ],
   "source": [
    "# Tensor a: tensor([1, 2, 3])\n",
    "# Tensor b: tensor([4, 5, 6])\n",
    "print(\"a - b:\", a - b)\n",
    "i = torch.sub(a, b)\n",
    "k = torch.sub(a, b, alpha=2)  # 1-4*2, 2-5*2, 3-6*2\n",
    "# Uncommenting the next line will raise an error because alpha must be an integer\n",
    "# l = torch.sub(a, b, alpha=1.5)  # 1-4*1.5, 2-5*1.5, 3-6*1.5\n",
    "print(\"i:\", i)\n",
    "print(\"k:\", k)  # k = a - b * 2"
   ]
  },
  {
   "cell_type": "markdown",
   "id": "9f126ffb",
   "metadata": {},
   "source": [
    "## Phép nhân"
   ]
  },
  {
   "cell_type": "code",
   "execution_count": 61,
   "id": "56cb93f9",
   "metadata": {},
   "outputs": [
    {
     "name": "stdout",
     "output_type": "stream",
     "text": [
      "a * 3: tensor([3, 6, 9])\n"
     ]
    }
   ],
   "source": [
    "print(\"a * 3:\", a * 3)"
   ]
  },
  {
   "cell_type": "code",
   "execution_count": 62,
   "id": "666fb6f7",
   "metadata": {},
   "outputs": [
    {
     "name": "stdout",
     "output_type": "stream",
     "text": [
      "a*b: tensor([ 4, 10, 18])\n",
      "j: tensor([ 4, 10, 18])\n",
      "l: tensor([ 4, 10, 18])\n"
     ]
    }
   ],
   "source": [
    "# Tensor a: tensor([1, 2, 3])\n",
    "# Tensor b: tensor([4, 5, 6])\n",
    "print(\"a*b:\", a * b)\n",
    "j = torch.mul(a, b)\n",
    "l = torch.mul(a, b)  # 1*4*2, 2*5*2, 3*6*2\n",
    "print(\"j:\", j)\n",
    "print(\"l:\", l)  # l = a * b * 2"
   ]
  },
  {
   "cell_type": "markdown",
   "id": "bb06c6f1",
   "metadata": {},
   "source": [
    "## Phép chia"
   ]
  },
  {
   "cell_type": "code",
   "execution_count": 63,
   "id": "74baaf22",
   "metadata": {},
   "outputs": [
    {
     "name": "stdout",
     "output_type": "stream",
     "text": [
      "a / b: tensor([0.2500, 0.2500, 0.5000])\n",
      "h: tensor([0.2500, 0.2500, 0.5000])\n"
     ]
    }
   ],
   "source": [
    "a = torch.tensor([1, 2, 3])\n",
    "b = torch.tensor([4, 8, 6])\n",
    "print(\"a / b:\", a / b)\n",
    "h = torch.div(a, b)\n",
    "\n",
    "print(\"h:\", h)  # h = a / b\n"
   ]
  },
  {
   "cell_type": "code",
   "execution_count": 64,
   "id": "fc70bd15",
   "metadata": {},
   "outputs": [
    {
     "name": "stdout",
     "output_type": "stream",
     "text": [
      "f: tensor([0, 0, 0])\n",
      "r: tensor([1, 2, 3])\n",
      "g: tensor([0, 0, 0])\n"
     ]
    }
   ],
   "source": [
    "# Chia làm tròn xuống\n",
    "f = torch.floor_divide(a, b)\n",
    "print(\"f:\", f)  # f = a // b (integer division)\n",
    "# Lấy phần dư (mod)\n",
    "r = torch.remainder(a, b)\n",
    "print(\"r:\", r)  # r = a % b (remainder)\n",
    "# Lấy phần dư (mod) với rounding_mode\n",
    "g = torch.div(a, b, rounding_mode='trunc')  # 1//4, 2//8, 3//6\n",
    "# rounding_mode='trunc' → Làm tròn về 0 (truncate)\n",
    "# rounding_mode='floor' → Làm tròn xuống âm vô cực (floor)\n",
    "print(\"g:\", g)  # g = a // b (integer division)"
   ]
  },
  {
   "cell_type": "markdown",
   "id": "059f3211",
   "metadata": {},
   "source": [
    "## Nhân hai ma trận"
   ]
  },
  {
   "cell_type": "code",
   "execution_count": 69,
   "id": "2c3157d7",
   "metadata": {},
   "outputs": [
    {
     "name": "stdout",
     "output_type": "stream",
     "text": [
      "y4: tensor([[19, 22],\n",
      "        [43, 50]])\n",
      "y5: tensor([[19, 22],\n",
      "        [43, 50]])\n",
      "y1: tensor([[17, 23],\n",
      "        [39, 53]])\n",
      "y2: tensor([[17, 23],\n",
      "        [39, 53]])\n",
      "y3: tensor([[17, 23],\n",
      "        [39, 53]])\n"
     ]
    }
   ],
   "source": [
    "m1 = torch.tensor([[1, 2], [3, 4]])\n",
    "m2 = torch.tensor([[5, 6], [7, 8]])\n",
    "y1 = m1 @ m2.T  # Matrix multiplication of m1 and transpose of m2\n",
    "y2 = m1.matmul(m2.T)  # Matrix multiplication using matmul method\n",
    "y3 = torch.mm(m1, m2.T)  # Matrix multiplication using mm function\n",
    "y4 = m1 @ m2  # Matrix multiplication of m1 and m2 (no transpose)\n",
    "y5 = m1.matmul(m2)  # Matrix multiplication using matmul method (no transpose)\n",
    "print(\"y4:\", y4)  # y4 = m1 @ m2 (matrix multiplication without transpose)\n",
    "print(\"y5:\", y5)  # y5 = m1.matmul(m2) (matrix multiplication without transpose)\n",
    "print(\"y1:\", y1)  # y1 = a @ b.T (matrix multiplication)\n",
    "print(\"y2:\", y2)  # y2 = a.matmul(b.T) (matrix multiplication)\n",
    "print(\"y3:\", y3)  # y3 = torch.mm(a, b.T) (matrix multiplication)"
   ]
  },
  {
   "cell_type": "markdown",
   "id": "d1b8656b",
   "metadata": {},
   "source": [
    "## SUM\n"
   ]
  },
  {
   "cell_type": "code",
   "execution_count": 72,
   "id": "c508ec64",
   "metadata": {},
   "outputs": [
    {
     "name": "stdout",
     "output_type": "stream",
     "text": [
      "tensor([1, 2, 3])\n",
      "Sum of all elements in a: tensor(6)\n",
      "Sum as Python number: 6\n"
     ]
    }
   ],
   "source": [
    "print(a)\n",
    "agg = torch.sum(a)  # Sum of all elements in tensor a\n",
    "print(\"Sum of all elements in a:\", agg)\n",
    "agg_item = agg.item()  # Convert the sum to a Python number\n",
    "print(\"Sum as Python number:\", agg_item)"
   ]
  }
 ],
 "metadata": {
  "kernelspec": {
   "display_name": "venv",
   "language": "python",
   "name": "python3"
  },
  "language_info": {
   "codemirror_mode": {
    "name": "ipython",
    "version": 3
   },
   "file_extension": ".py",
   "mimetype": "text/x-python",
   "name": "python",
   "nbconvert_exporter": "python",
   "pygments_lexer": "ipython3",
   "version": "3.9.10"
  }
 },
 "nbformat": 4,
 "nbformat_minor": 5
}

{
 "cells": [
  {
   "cell_type": "code",
   "execution_count": 37,
   "id": "2963d715",
   "metadata": {},
   "outputs": [
    {
     "name": "stdout",
     "output_type": "stream",
     "text": [
      "2.7.1+cpu\n"
     ]
    }
   ],
   "source": [
    "import torch\n",
    "import numpy as np\n",
    "print(torch.__version__)"
   ]
  },
  {
   "cell_type": "markdown",
   "id": "2c96d258",
   "metadata": {},
   "source": [
    "## Làm quen với tensor"
   ]
  },
  {
   "cell_type": "code",
   "execution_count": 31,
   "id": "02a08aff",
   "metadata": {},
   "outputs": [
    {
     "name": "stdout",
     "output_type": "stream",
     "text": [
      "tensor([[1., 2., 3.],\n",
      "        [4., 5., 6.],\n",
      "        [7., 8., 9.]])\n",
      "torch.Size([3, 3])\n"
     ]
    }
   ],
   "source": [
    "data = [[1,2,3], [4,5,6], [7,8,9]]\n",
    "x = torch.tensor(data, dtype=torch.float32)\n",
    "print(x)\n",
    "print(x.shape)"
   ]
  },
  {
   "cell_type": "code",
   "execution_count": 44,
   "id": "36ef2e24",
   "metadata": {},
   "outputs": [
    {
     "name": "stdout",
     "output_type": "stream",
     "text": [
      "(3, 3)\n",
      "tensor([[1., 2., 3.],\n",
      "        [4., 5., 6.],\n",
      "        [7., 8., 9.]], dtype=torch.float16)\n",
      "torch.Size([3, 3])\n",
      "True\n"
     ]
    }
   ],
   "source": [
    "np_data = np.array(data)\n",
    "print(np_data.shape)\n",
    "np_data = np_data.astype(np.float32)  # Ensure the numpy array is of type float32\n",
    "y = torch.tensor(data, dtype=torch.float16)\n",
    "print(y)\n",
    "print(y.shape)\n",
    "print(torch.equal(x, y))  # Check if the tensors are equal"
   ]
  },
  {
   "cell_type": "markdown",
   "id": "ba5e35b8",
   "metadata": {},
   "source": [
    "# Các phép toán với tensor"
   ]
  },
  {
   "cell_type": "markdown",
   "id": "886f43cc",
   "metadata": {},
   "source": [
    "## Phép cộng"
   ]
  },
  {
   "cell_type": "code",
   "execution_count": 14,
   "id": "53f63ab1",
   "metadata": {},
   "outputs": [
    {
     "name": "stdout",
     "output_type": "stream",
     "text": [
      "Tensor a: tensor([1, 2, 3])\n",
      "Tensor b: tensor([4, 5, 6])\n",
      "Element-wise addition: tensor([5, 7, 9])\n"
     ]
    }
   ],
   "source": [
    "a = torch.tensor([1, 2, 3])\n",
    "b = torch.tensor([4, 5, 6])\n",
    "print(\"Tensor a:\", a)\n",
    "print(\"Tensor b:\", b)\n",
    "print(\"Element-wise addition:\", a + b)"
   ]
  },
  {
   "cell_type": "code",
   "execution_count": null,
   "id": "2122c5c4",
   "metadata": {},
   "outputs": [
    {
     "name": "stdout",
     "output_type": "stream",
     "text": [
      "c tensor([5, 7, 9])\n",
      "d tensor([5, 7, 9])\n",
      "e tensor([ 9, 12, 15])\n"
     ]
    }
   ],
   "source": [
    "c = a + b\n",
    "d = torch.add(a, b)\n",
    "e = torch.add(a, b, alpha=2)# 1+4*2, 2+5*2, 3+6*2\n",
    "# alpha is a multiplier for the second tensor, b\n",
    "# Uncommenting the next line will raise an error because alpha must be an integer\n",
    "# f = torch.add(a, b, alpha=1.5) \n",
    "print (\"c\", c)\n",
    "print (\"d\", d)\n",
    "print (\"e\", e)  \n",
    "\n"
   ]
  },
  {
   "cell_type": "markdown",
   "id": "88def638",
   "metadata": {},
   "source": [
    "## Phép trừ"
   ]
  },
  {
   "cell_type": "code",
   "execution_count": 20,
   "id": "9646fb92",
   "metadata": {},
   "outputs": [
    {
     "name": "stdout",
     "output_type": "stream",
     "text": [
      "a - b: tensor([-3, -3, -3])\n",
      "i: tensor([-3, -3, -3])\n",
      "k: tensor([-7, -8, -9])\n"
     ]
    }
   ],
   "source": [
    "# Tensor a: tensor([1, 2, 3])\n",
    "# Tensor b: tensor([4, 5, 6])\n",
    "print(\"a - b:\", a - b)\n",
    "i = torch.sub(a, b)\n",
    "k = torch.sub(a, b, alpha=2)  # 1-4*2, 2-5*2, 3-6*2\n",
    "# Uncommenting the next line will raise an error because alpha must be an integer\n",
    "# l = torch.sub(a, b, alpha=1.5)  # 1-4*1.5, 2-5*1.5, 3-6*1.5\n",
    "print(\"i:\", i)\n",
    "print(\"k:\", k)  # k = a - b * 2"
   ]
  },
  {
   "cell_type": "markdown",
   "id": "9f126ffb",
   "metadata": {},
   "source": [
    "## Phép nhân"
   ]
  },
  {
   "cell_type": "code",
   "execution_count": 24,
   "id": "56cb93f9",
   "metadata": {},
   "outputs": [
    {
     "name": "stdout",
     "output_type": "stream",
     "text": [
      "a * 3: tensor([3, 6, 9])\n"
     ]
    }
   ],
   "source": [
    "print(\"a * 3:\", a * 3)"
   ]
  },
  {
   "cell_type": "code",
   "execution_count": 23,
   "id": "666fb6f7",
   "metadata": {},
   "outputs": [
    {
     "name": "stdout",
     "output_type": "stream",
     "text": [
      "a*b: tensor([ 4, 10, 18])\n",
      "j: tensor([ 4, 10, 18])\n",
      "l: tensor([ 4, 10, 18])\n"
     ]
    }
   ],
   "source": [
    "# Tensor a: tensor([1, 2, 3])\n",
    "# Tensor b: tensor([4, 5, 6])\n",
    "print(\"a*b:\", a * b)\n",
    "j = torch.mul(a, b)\n",
    "l = torch.mul(a, b)  # 1*4*2, 2*5*2, 3*6*2\n",
    "print(\"j:\", j)\n",
    "print(\"l:\", l)  # l = a * b * 2"
   ]
  },
  {
   "cell_type": "markdown",
   "id": "bb06c6f1",
   "metadata": {},
   "source": [
    "## Phép chia"
   ]
  },
  {
   "cell_type": "code",
   "execution_count": null,
   "id": "74baaf22",
   "metadata": {},
   "outputs": [
    {
     "name": "stdout",
     "output_type": "stream",
     "text": [
      "a / b: tensor([0.2500, 0.2500, 0.5000])\n",
      "h: tensor([0.2500, 0.2500, 0.5000])\n",
      "g: tensor([0, 0, 0])\n"
     ]
    }
   ],
   "source": [
    "a = torch.tensor([1, 2, 3])\n",
    "b = torch.tensor([4, 8, 6])\n",
    "print(\"a / b:\", a / b)\n",
    "h = torch.div(a, b)\n",
    "\n",
    "print(\"h:\", h)  # h = a / b\n"
   ]
  },
  {
   "cell_type": "code",
   "execution_count": 27,
   "id": "fc70bd15",
   "metadata": {},
   "outputs": [
    {
     "name": "stdout",
     "output_type": "stream",
     "text": [
      "f: tensor([0, 0, 0])\n",
      "r: tensor([1, 2, 3])\n",
      "g: tensor([0, 0, 0])\n"
     ]
    }
   ],
   "source": [
    "# Chia làm tròn xuống\n",
    "f = torch.floor_divide(a, b)\n",
    "print(\"f:\", f)  # f = a // b (integer division)\n",
    "# Lấy phần dư (mod)\n",
    "r = torch.remainder(a, b)\n",
    "print(\"r:\", r)  # r = a % b (remainder)\n",
    "# Lấy phần dư (mod) với rounding_mode\n",
    "g = torch.div(a, b, rounding_mode='trunc')  # 1//4, 2//8, 3//6\n",
    "# rounding_mode='trunc' → Làm tròn về 0 (truncate)\n",
    "# rounding_mode='floor' → Làm tròn xuống âm vô cực (floor)\n",
    "print(\"g:\", g)  # g = a // b (integer division)"
   ]
  }
 ],
 "metadata": {
  "kernelspec": {
   "display_name": "venv",
   "language": "python",
   "name": "python3"
  },
  "language_info": {
   "codemirror_mode": {
    "name": "ipython",
    "version": 3
   },
   "file_extension": ".py",
   "mimetype": "text/x-python",
   "name": "python",
   "nbconvert_exporter": "python",
   "pygments_lexer": "ipython3",
   "version": "3.9.10"
  }
 },
 "nbformat": 4,
 "nbformat_minor": 5
}

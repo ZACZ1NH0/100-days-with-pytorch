{
 "cells": [
  {
   "cell_type": "code",
   "execution_count": 1,
   "id": "d0c4d39b",
   "metadata": {},
   "outputs": [],
   "source": [
    "import numpy as np\n",
    "import torch"
   ]
  },
  {
   "cell_type": "markdown",
   "id": "1cbe7b05",
   "metadata": {},
   "source": [
    "### Without autograd"
   ]
  },
  {
   "cell_type": "code",
   "execution_count": 10,
   "id": "b9e59b2a",
   "metadata": {},
   "outputs": [],
   "source": [
    "X = np.array([1, 2, 3, 4], dtype=np.float32)\n",
    "Y = np.array([2, 4, 6, 8], dtype=np.float32)\n",
    "\n",
    "w = 0.0"
   ]
  },
  {
   "cell_type": "code",
   "execution_count": null,
   "id": "fc2f5c73",
   "metadata": {},
   "outputs": [],
   "source": [
    "# model prediction\n",
    "def forward(x):\n",
    "    return w * x\n",
    "\n",
    "#loss function MEAN SQUARED ERROR (MSE)\n",
    "def loss(y, y_pred):\n",
    "    return ((y_pred - y) ** 2).mean()\n",
    "\n",
    "# gradient of loss function\n",
    "def gradient(x, y, y_pred):\n",
    "    return (2 * x * (y_pred - y)).mean()"
   ]
  },
  {
   "cell_type": "code",
   "execution_count": 12,
   "id": "aa187c09",
   "metadata": {},
   "outputs": [
    {
     "name": "stdout",
     "output_type": "stream",
     "text": [
      "Epoch 0, w = 1.890, loss = 1.46004927\n",
      "Epoch 10, w = 2.000, loss = 0.00000000\n",
      "Epoch 20, w = 2.000, loss = 0.00000000\n",
      "Epoch 30, w = 2.000, loss = 0.00000000\n",
      "Epoch 40, w = 2.000, loss = 0.00000000\n",
      "Epoch 50, w = 2.000, loss = 0.00000000\n",
      "Epoch 60, w = 2.000, loss = 0.00000000\n",
      "Epoch 70, w = 2.000, loss = 0.00000000\n",
      "Epoch 80, w = 2.000, loss = 0.00000000\n",
      "Epoch 90, w = 2.000, loss = 0.00000000\n"
     ]
    }
   ],
   "source": [
    "lr = 0.05\n",
    "# training loop\n",
    "n_iterations = 100\n",
    "for epoch in range(n_iterations):\n",
    "    y_pred = forward(X)\n",
    "    l = loss(Y, y_pred)\n",
    "    grad = gradient(X, Y, y_pred)\n",
    "\n",
    "    global w\n",
    "    w -= lr * grad\n",
    "\n",
    "    if epoch % 10 == 0:\n",
    "        print(f'Epoch {epoch}, w = {w:.3f}, loss = {l:.8f}')"
   ]
  },
  {
   "cell_type": "markdown",
   "id": "4c4bc8c2",
   "metadata": {},
   "source": [
    "X -----> [ w*x ] -----> y_pred -----> loss(y, y_pred) -----> gradient -----> cập nhật w\n"
   ]
  },
  {
   "cell_type": "code",
   "execution_count": 13,
   "id": "24c04792",
   "metadata": {},
   "outputs": [
    {
     "name": "stdout",
     "output_type": "stream",
     "text": [
      "Dự đoán: [10. 20. 30.]\n"
     ]
    }
   ],
   "source": [
    "x_new = np.array([5, 10, 15])  #  input mới\n",
    "y_new_pred = forward(x_new)\n",
    "print(\"Dự đoán:\", y_new_pred)"
   ]
  },
  {
   "cell_type": "markdown",
   "id": "ea818b7c",
   "metadata": {},
   "source": [
    "### With autograd"
   ]
  },
  {
   "cell_type": "code",
   "execution_count": null,
   "id": "4bc273cd",
   "metadata": {},
   "outputs": [
    {
     "name": "stdout",
     "output_type": "stream",
     "text": [
      "Epoch 0, w = 0.933, loss = 18.66666603\n",
      "Epoch 10, w = 1.998, loss = 0.00006472\n",
      "Epoch 20, w = 2.000, loss = 0.00000000\n",
      "Epoch 30, w = 2.000, loss = 0.00000000\n",
      "Epoch 40, w = 2.000, loss = 0.00000000\n",
      "Epoch 50, w = 2.000, loss = 0.00000000\n",
      "Epoch 60, w = 2.000, loss = 0.00000000\n",
      "Epoch 70, w = 2.000, loss = 0.00000000\n",
      "Epoch 80, w = 2.000, loss = 0.00000000\n",
      "Epoch 90, w = 2.000, loss = 0.00000000\n",
      "Dự đoán: tensor([10., 20., 30.], grad_fn=<MulBackward0>)\n"
     ]
    }
   ],
   "source": [
    "x = torch.tensor([1, 2, 3], dtype=torch.float32)\n",
    "y = torch.tensor([2, 4, 6], dtype=torch.float32)\n",
    "\n",
    "w = torch.tensor(0.0, requires_grad=True)\n",
    "\n",
    "for epoch in range(n_iterations):\n",
    "    y_pred = w * x\n",
    "    loss = ((y_pred - y)**2).mean()\n",
    "    loss.backward()          # PyTorch tự tính đạo hàm\n",
    "    with torch.no_grad(): # chỉ muốn cập nhật trọng số mà không cần theo dõi gradient\n",
    "        w -= lr * w.grad     # cập nhật trọng số\n",
    "        w.grad.zero_()       # reset gradient\n",
    "    if epoch % 10 == 0:\n",
    "        print(f'Epoch {epoch}, w = {w.item():.3f}, loss = {loss.item():.8f}')\n",
    "\n",
    "x_new = torch.tensor([5, 10, 15], dtype=torch.float32)  # input mới\n",
    "y_new_pred = w * x_new\n",
    "print(\"Dự đoán:\", y_new_pred)"
   ]
  }
 ],
 "metadata": {
  "kernelspec": {
   "display_name": "venv",
   "language": "python",
   "name": "python3"
  },
  "language_info": {
   "codemirror_mode": {
    "name": "ipython",
    "version": 3
   },
   "file_extension": ".py",
   "mimetype": "text/x-python",
   "name": "python",
   "nbconvert_exporter": "python",
   "pygments_lexer": "ipython3",
   "version": "3.9.10"
  }
 },
 "nbformat": 4,
 "nbformat_minor": 5
}

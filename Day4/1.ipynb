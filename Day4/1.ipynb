{
 "cells": [
  {
   "cell_type": "code",
   "execution_count": 1,
   "id": "ece8e1a8",
   "metadata": {},
   "outputs": [],
   "source": [
    "import torch\n",
    "import torch.nn as nn"
   ]
  },
  {
   "cell_type": "code",
   "execution_count": 3,
   "id": "776789af",
   "metadata": {},
   "outputs": [],
   "source": [
    "x = torch.tensor([[1], [2], [3], [4]], dtype=torch.float32)\n",
    "y = torch.tensor([[2], [4], [6], [8]], dtype=torch.float32)\n",
    "model = nn.Linear(1, 1)"
   ]
  },
  {
   "cell_type": "markdown",
   "id": "6e027b91",
   "metadata": {},
   "source": [
    "### SGD"
   ]
  },
  {
   "cell_type": "code",
   "execution_count": 8,
   "id": "aba84aca",
   "metadata": {},
   "outputs": [
    {
     "name": "stdout",
     "output_type": "stream",
     "text": [
      "Epoch 0, Loss: 0.0001405294897267595\n",
      "Epoch 10, Loss: 0.0001323467877227813\n",
      "Epoch 20, Loss: 0.0001246448082383722\n",
      "Epoch 30, Loss: 0.00011738853936549276\n",
      "Epoch 40, Loss: 0.00011055534560000524\n",
      "Epoch 50, Loss: 0.00010412184929009527\n",
      "Epoch 60, Loss: 9.806357411434874e-05\n",
      "Epoch 70, Loss: 9.235257311956957e-05\n",
      "Epoch 80, Loss: 8.697899465914816e-05\n",
      "Epoch 90, Loss: 8.19175475044176e-05\n"
     ]
    }
   ],
   "source": [
    "optimizer = torch.optim.SGD(model.parameters(), lr =0.01)\n",
    "criterion = nn.MSELoss() # Mean Squared Error Loss\n",
    "\n",
    "for epoch in range(100):\n",
    "    y_pred = model(x)\n",
    "    loss = criterion(y_pred, y)\n",
    "    \n",
    "    loss.backward()\n",
    "    optimizer.step()\n",
    "    optimizer.zero_grad()\n",
    "\n",
    "    if epoch % 10 == 0:\n",
    "        print(f'Epoch {epoch}, Loss: {loss.item()}')\n",
    "    "
   ]
  },
  {
   "cell_type": "code",
   "execution_count": 9,
   "id": "134eb650",
   "metadata": {},
   "outputs": [
    {
     "name": "stdout",
     "output_type": "stream",
     "text": [
      "Dự đoán cho x=5: 10.015057563781738\n"
     ]
    }
   ],
   "source": [
    "x_test = torch.tensor([[5.0]], dtype=torch.float32)\n",
    "y_test_pred = model(x_test)\n",
    "print(\"Dự đoán cho x=5:\", y_test_pred.item())"
   ]
  },
  {
   "cell_type": "markdown",
   "id": "df72ec0c",
   "metadata": {},
   "source": [
    "### SGD + mommentum"
   ]
  },
  {
   "cell_type": "code",
   "execution_count": 10,
   "id": "54e517ad",
   "metadata": {},
   "outputs": [
    {
     "name": "stdout",
     "output_type": "stream",
     "text": [
      "Epoch 0, Loss: 7.714584353379905e-05\n",
      "Epoch 10, Loss: 5.964935917290859e-05\n",
      "Epoch 20, Loss: 3.464313704171218e-05\n",
      "Epoch 30, Loss: 1.70266557688592e-05\n",
      "Epoch 40, Loss: 7.445786650350783e-06\n",
      "Epoch 50, Loss: 2.9678712962777354e-06\n",
      "Epoch 60, Loss: 1.0908764807027183e-06\n",
      "Epoch 70, Loss: 3.7135470165594597e-07\n",
      "Epoch 80, Loss: 1.1692979740018927e-07\n",
      "Epoch 90, Loss: 3.375062362920289e-08\n"
     ]
    }
   ],
   "source": [
    "optimizer = torch.optim.SGD(model.parameters(), lr=0.01, momentum=0.9)\n",
    "for epoch in range(100):\n",
    "    y_pred = model(x)\n",
    "    loss = criterion(y_pred, y)\n",
    "    \n",
    "    loss.backward()\n",
    "    optimizer.step()\n",
    "    optimizer.zero_grad()\n",
    "\n",
    "    if epoch % 10 == 0:\n",
    "        print(f'Epoch {epoch}, Loss: {loss.item()}')"
   ]
  },
  {
   "cell_type": "markdown",
   "id": "e4265415",
   "metadata": {},
   "source": [
    "### Adagrad"
   ]
  },
  {
   "cell_type": "code",
   "execution_count": 11,
   "id": "c810f74f",
   "metadata": {},
   "outputs": [
    {
     "name": "stdout",
     "output_type": "stream",
     "text": [
      "Epoch 0, Loss: 8.751456448408135e-09\n",
      "Epoch 10, Loss: 0.0016938531771302223\n",
      "Epoch 20, Loss: 0.0006387777393683791\n",
      "Epoch 30, Loss: 0.0002417492214590311\n",
      "Epoch 40, Loss: 9.16142453206703e-05\n",
      "Epoch 50, Loss: 3.473580727586523e-05\n",
      "Epoch 60, Loss: 1.3172953003959265e-05\n",
      "Epoch 70, Loss: 4.995619747205637e-06\n",
      "Epoch 80, Loss: 1.8949892819364322e-06\n",
      "Epoch 90, Loss: 7.187430810517981e-07\n"
     ]
    }
   ],
   "source": [
    "optimizer = torch.optim.Adagrad(model.parameters(), lr=0.1)\n",
    "for epoch in range(100):\n",
    "    y_pred = model(x)\n",
    "    loss = criterion(y_pred, y)\n",
    "    \n",
    "    loss.backward()\n",
    "    optimizer.step()\n",
    "    optimizer.zero_grad()\n",
    "\n",
    "    if epoch % 10 == 0:\n",
    "        print(f'Epoch {epoch}, Loss: {loss.item()}')"
   ]
  },
  {
   "cell_type": "markdown",
   "id": "9f8c8b7f",
   "metadata": {},
   "source": [
    "### RMSprop"
   ]
  },
  {
   "cell_type": "code",
   "execution_count": 12,
   "id": "888f900c",
   "metadata": {},
   "outputs": [
    {
     "name": "stdout",
     "output_type": "stream",
     "text": [
      "Epoch 0, Loss: 2.7262916546533233e-07\n",
      "Epoch 10, Loss: 0.000137995884870179\n",
      "Epoch 20, Loss: 0.0015074815601110458\n",
      "Epoch 30, Loss: 0.00012251047883182764\n",
      "Epoch 40, Loss: 0.0001880424824776128\n",
      "Epoch 50, Loss: 0.00046141917118802667\n",
      "Epoch 60, Loss: 0.00036807317519560456\n",
      "Epoch 70, Loss: 0.0002931174822151661\n",
      "Epoch 80, Loss: 0.0003307423321530223\n",
      "Epoch 90, Loss: 0.00035476102493703365\n"
     ]
    }
   ],
   "source": [
    "optimizer = torch.optim.RMSprop(model.parameters(), lr=0.01, alpha=0.9)\n",
    "for epoch in range(100):\n",
    "    y_pred = model(x)\n",
    "    loss = criterion(y_pred, y)\n",
    "    \n",
    "    loss.backward()\n",
    "    optimizer.step()\n",
    "    optimizer.zero_grad()\n",
    "\n",
    "    if epoch % 10 == 0:\n",
    "        print(f'Epoch {epoch}, Loss: {loss.item()}')"
   ]
  },
  {
   "cell_type": "markdown",
   "id": "5377d0af",
   "metadata": {},
   "source": [
    "### Adam"
   ]
  },
  {
   "cell_type": "code",
   "execution_count": 13,
   "id": "897f4bef",
   "metadata": {},
   "outputs": [
    {
     "name": "stdout",
     "output_type": "stream",
     "text": [
      "Epoch 0, Loss: 0.0003372553619556129\n",
      "Epoch 10, Loss: 8.522204007022083e-05\n",
      "Epoch 20, Loss: 8.632958270027302e-06\n",
      "Epoch 30, Loss: 8.016211268113693e-07\n",
      "Epoch 40, Loss: 5.145494924363447e-06\n",
      "Epoch 50, Loss: 1.58275156536547e-07\n",
      "Epoch 60, Loss: 7.354387889790814e-07\n",
      "Epoch 70, Loss: 1.3112726549024956e-07\n",
      "Epoch 80, Loss: 6.154607490316266e-09\n",
      "Epoch 90, Loss: 9.162093306258612e-11\n"
     ]
    }
   ],
   "source": [
    "optimizer = torch.optim.Adam(model.parameters(), lr=0.01)\n",
    "for epoch in range(100):\n",
    "    y_pred = model(x)\n",
    "    loss = criterion(y_pred, y)\n",
    "    \n",
    "    loss.backward()\n",
    "    optimizer.step()\n",
    "    optimizer.zero_grad()\n",
    "\n",
    "    if epoch % 10 == 0:\n",
    "        print(f'Epoch {epoch}, Loss: {loss.item()}')"
   ]
  },
  {
   "cell_type": "code",
   "execution_count": 14,
   "id": "bc64e501",
   "metadata": {},
   "outputs": [
    {
     "name": "stdout",
     "output_type": "stream",
     "text": [
      "Dự đoán cho x=5 sau khi huấn luyện: 10.000025749206543\n"
     ]
    }
   ],
   "source": [
    "model.eval()  # Chuyển sang chế độ đánh giá\n",
    "x_test = torch.tensor([[5.0]], dtype=torch.float32)\n",
    "y_test_pred = model(x_test)\n",
    "print(\"Dự đoán cho x=5 sau khi huấn luyện:\", y_test_pred.item())\n",
    "# Lưu mô hình\n",
    "# torch.save(model.state_dict(), 'linear_model.pth')\n",
    "# Tải mô hình\n",
    "# model_loaded = nn.Linear(1, 1)\n",
    "# model_loaded.load_state_dict(torch.load('linear_model.pth'))\n"
   ]
  }
 ],
 "metadata": {
  "kernelspec": {
   "display_name": "venv",
   "language": "python",
   "name": "python3"
  },
  "language_info": {
   "codemirror_mode": {
    "name": "ipython",
    "version": 3
   },
   "file_extension": ".py",
   "mimetype": "text/x-python",
   "name": "python",
   "nbconvert_exporter": "python",
   "pygments_lexer": "ipython3",
   "version": "3.9.10"
  }
 },
 "nbformat": 4,
 "nbformat_minor": 5
}

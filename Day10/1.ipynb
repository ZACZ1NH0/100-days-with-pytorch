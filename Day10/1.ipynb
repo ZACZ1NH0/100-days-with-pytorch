{
 "cells": [
  {
   "cell_type": "code",
   "execution_count": 1,
   "id": "4130b0e6",
   "metadata": {},
   "outputs": [],
   "source": [
    "import torch\n",
    "import torch.nn as nn\n",
    "import numpy as np"
   ]
  },
  {
   "cell_type": "code",
   "execution_count": 2,
   "id": "1a6c38e1",
   "metadata": {},
   "outputs": [],
   "source": [
    "def softmax(x):\n",
    "    return np.exp(x) /  np.sum(np.exp(x), axis=0)\n"
   ]
  },
  {
   "cell_type": "code",
   "execution_count": 3,
   "id": "e7cfbf85",
   "metadata": {},
   "outputs": [
    {
     "name": "stdout",
     "output_type": "stream",
     "text": [
      "softmax numpy:  [0.65900114 0.24243297 0.09856589]\n"
     ]
    }
   ],
   "source": [
    "x = np.array([2.0, 1.0, 0.1])\n",
    "outputs = softmax(x)\n",
    "print('softmax numpy: ', outputs)"
   ]
  },
  {
   "cell_type": "code",
   "execution_count": null,
   "id": "7bc1483e",
   "metadata": {},
   "outputs": [
    {
     "name": "stdout",
     "output_type": "stream",
     "text": [
      "softmax tensor: tensor([0.6590, 0.2424, 0.0986])\n"
     ]
    }
   ],
   "source": [
    "x = torch.tensor([2.0, 1.0, 0.1])\n",
    "outputs = torch.softmax(x, dim=0)\n",
    "# Hàm softmax hoạt động trên tensor nhiều chiều, và nó cần biết theo chiều nào để chuẩn hóa thành xác suất.\n",
    "# Nếu không ghi dim, PyTorch không biết làm theo chiều nào → sẽ báo lỗi\n",
    "print('softmax tensor:', outputs)"
   ]
  },
  {
   "cell_type": "markdown",
   "id": "cc4ee1a0",
   "metadata": {},
   "source": [
    "Trong PyTorch (và NumPy), các chiều được đánh số theo thứ tự từ ngoài vào trong:\n",
    "\n",
    "dim=0: chiều đầu tiên (các dòng thay đổi → theo cột)\n",
    "\n",
    "dim=1: chiều thứ hai (các cột thay đổi → theo dòng)"
   ]
  },
  {
   "cell_type": "code",
   "execution_count": null,
   "id": "dfd5fe05",
   "metadata": {},
   "outputs": [],
   "source": [
    "# Nếu x là ma trận x.shape = (2,3) \n",
    "# dim=1 áp dụng softmax theo mỗi dòng\n",
    "# dim=0 áp dụng softmax theo mỗi cột\n",
    "x = torch.tensor([[2.0, 1.0, 0.1],\n",
    "                  [1.0, 3.0, 0.2]])\n"
   ]
  },
  {
   "cell_type": "markdown",
   "id": "d678531f",
   "metadata": {},
   "source": [
    "dim=0: “trượt” theo chiều 0 → so sánh các dòng → tính theo cột\n",
    "\n",
    "dim=1: “trượt” theo chiều 1 → so sánh các cột → tính theo dòng"
   ]
  },
  {
   "cell_type": "code",
   "execution_count": null,
   "id": "3159eff8",
   "metadata": {},
   "outputs": [],
   "source": []
  }
 ],
 "metadata": {
  "kernelspec": {
   "display_name": "venv",
   "language": "python",
   "name": "python3"
  },
  "language_info": {
   "codemirror_mode": {
    "name": "ipython",
    "version": 3
   },
   "file_extension": ".py",
   "mimetype": "text/x-python",
   "name": "python",
   "nbconvert_exporter": "python",
   "pygments_lexer": "ipython3",
   "version": "3.9.10"
  }
 },
 "nbformat": 4,
 "nbformat_minor": 5
}
